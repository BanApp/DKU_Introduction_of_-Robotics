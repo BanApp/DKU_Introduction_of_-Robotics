{
  "cells": [
    {
      "cell_type": "markdown",
      "source": [
        "# 32184074 컴퓨터공학과 정민준\n",
        "\n",
        "## 로봇공학개론 1분반 과제 - 차선 인식"
      ],
      "metadata": {
        "id": "WnT-UUpRcdN4"
      }
    },
    {
      "cell_type": "markdown",
      "source": [
        "# 코드"
      ],
      "metadata": {
        "id": "qWiUcjPCckuS"
      }
    },
    {
      "cell_type": "code",
      "execution_count": 1,
      "metadata": {
        "id": "S--NlvEV8sR_"
      },
      "outputs": [],
      "source": [
        "#라이브러리 호출\n",
        "import numpy as np\n",
        "import cv2\n",
        "from google.colab.patches import cv2_imshow"
      ]
    },
    {
      "cell_type": "code",
      "execution_count": 3,
      "metadata": {
        "id": "FIl33NV583JM"
      },
      "outputs": [],
      "source": [
        "# 흑백이미지로 변환\n",
        "def grayscale(img):\n",
        "    return cv2.cvtColor(img, cv2.COLOR_RGB2GRAY)\n",
        "\n",
        "# Canny 알고리즘\n",
        "def canny(img, low_threshold, high_threshold):\n",
        "    return cv2.Canny(img, low_threshold, high_threshold)\n",
        "\n",
        "# 가우시안 필터\n",
        "def gaussian_blur(img, kernel_size):\n",
        "    return cv2.GaussianBlur(img, (kernel_size, kernel_size), 0)\n",
        "\n",
        "# ROI 셋팅\n",
        "def region_of_interest(img, vertices, color3=(255,255,255), color1=255):\n",
        "\n",
        "    # mask = img와 같은 크기의 빈 이미지\n",
        "    mask = np.zeros_like(img) \n",
        "    \n",
        "    if len(img.shape) > 2: # Color 이미지(3채널)라면 :\n",
        "        color = color3\n",
        "    else: # 흑백 이미지(1채널)라면 :\n",
        "        color = color1\n",
        "        \n",
        "    # vertices에 정한 점들로 이뤄진 다각형부분(ROI 설정부분)을 color로 채움 \n",
        "    cv2.fillPoly(mask, vertices, color)\n",
        "    \n",
        "    # 이미지와 color로 채워진 ROI를 합침\n",
        "    ROI_image = cv2.bitwise_and(img, mask)\n",
        "    return ROI_image\n",
        "\n",
        "# 선 그리기\n",
        "def draw_lines(img, lines, color=[0, 0, 255], thickness=2): \n",
        "    for line in lines:\n",
        "        for x1,y1,x2,y2 in line:\n",
        "            cv2.line(img, (x1, y1), (x2, y2), color, thickness)\n",
        "\n",
        "def hough_lines(img, rho, theta, threshold, min_line_len, max_line_gap): # 허프 변환\n",
        "    lines = cv2.HoughLinesP(img, rho, theta, threshold, np.array([]), minLineLength=min_line_len, maxLineGap=max_line_gap)\n",
        "    #line_img = np.zeros((img.shape[0], img.shape[1], 3), dtype=np.uint8)\n",
        "    #draw_lines(line_img, lines)\n",
        "\n",
        "    return lines\n",
        "\n",
        "# 두 이미지 operlap 하기\n",
        "def weighted_img(img, initial_img, a=1, b=1., c=0.): \n",
        "    return cv2.addWeighted(initial_img, a, img, b, c)\n",
        "\n",
        "\n",
        "cap = cv2.VideoCapture('/content/line_following.mp4')\n",
        "\n",
        "arr = []\n",
        "\n",
        "while(1):\n",
        "\n",
        "  ret,image = cap.read()\n",
        "\n",
        "  if image is None:\n",
        "    break\n",
        "\n",
        "  height, width = image.shape[:2] # 이미지 높이, 너비\n",
        "\n",
        "  gray_img = grayscale(image) # 흑백이미지로 변환\n",
        "    \n",
        "  blur_img = gaussian_blur(gray_img, 3) # Blur 효과\n",
        "        \n",
        "  canny_img = canny(blur_img, 70, 210) # Canny edge 알고리즘\n",
        "\n",
        "  vertices = np.array([[(50,height),(width/2-45, height/2+60), (width/2+45, height/2+60), (width-50,height)]], dtype=np.int32)\n",
        "  ROI_img = region_of_interest(canny_img, vertices) # ROI 설정\n",
        "\n",
        "  line_arr = hough_lines(ROI_img, 1, 1 * np.pi/180, 30, 10, 20) # 허프 변환\n",
        "  line_arr = np.squeeze(line_arr)\n",
        "    \n",
        "  # 기울기 구하기\n",
        "  slope_degree = (np.arctan2(line_arr[:,1] - line_arr[:,3], line_arr[:,0] - line_arr[:,2]) * 180) / np.pi\n",
        "\n",
        "  # 수평 기울기 제한\n",
        "  line_arr = line_arr[np.abs(slope_degree)<160]\n",
        "  slope_degree = slope_degree[np.abs(slope_degree)<160]\n",
        "\n",
        "  # 수직 기울기 제한\n",
        "  line_arr = line_arr[np.abs(slope_degree)>95]\n",
        "  slope_degree = slope_degree[np.abs(slope_degree)>95]\n",
        "\n",
        "  # 필터링된 직선 버리기\n",
        "  L_lines, R_lines = line_arr[(slope_degree>0),:], line_arr[(slope_degree<0),:]\n",
        "  temp = np.zeros((image.shape[0], image.shape[1], 3), dtype=np.uint8)\n",
        "  L_lines, R_lines = L_lines[:,None], R_lines[:,None]\n",
        "\n",
        "  # 직선 그리기\n",
        "  draw_lines(temp, L_lines)\n",
        "  draw_lines(temp, R_lines)\n",
        "\n",
        "  result = weighted_img(temp, image) # 원본 이미지에 검출된 선 overlap\n",
        "  #cv2_imshow(result) # 결과 이미지 출력\n",
        "\n",
        "  arr.append(result)\n",
        "\n",
        "#저장할 영상\n",
        "output = cv2.VideoWriter('output.mp4',cv2.VideoWriter_fourcc(*'DIVX'), 24, (width, height))\n",
        "\n",
        "#output에 프레임별 이미지 추가 및 저장\n",
        "for i in range(len(arr)):\n",
        "  output.write(arr[i])\n",
        "output.release()  \n"
      ]
    }
  ],
  "metadata": {
    "accelerator": "GPU",
    "colab": {
      "provenance": []
    },
    "gpuClass": "standard",
    "kernelspec": {
      "display_name": "Python 3",
      "name": "python3"
    },
    "language_info": {
      "name": "python"
    }
  },
  "nbformat": 4,
  "nbformat_minor": 0
}